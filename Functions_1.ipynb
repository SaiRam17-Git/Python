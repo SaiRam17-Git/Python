{
 "cells": [
  {
   "cell_type": "code",
   "execution_count": 1,
   "id": "696736e5",
   "metadata": {},
   "outputs": [
    {
     "name": "stdout",
     "output_type": "stream",
     "text": [
      "('pepperoni',)\n",
      "('mushrooms', 'green peppers', 'extra cheese')\n"
     ]
    }
   ],
   "source": [
    "#passing an arbitrary number of arguments:\n",
    "\n",
    "def make_pizza(*toppings):\n",
    "    print(toppings)\n",
    "    \n",
    "make_pizza('pepperoni')\n",
    "make_pizza('mushrooms', 'green peppers', 'extra cheese')"
   ]
  },
  {
   "cell_type": "code",
   "execution_count": 3,
   "id": "52949c37",
   "metadata": {},
   "outputs": [
    {
     "name": "stdout",
     "output_type": "stream",
     "text": [
      "\n",
      " For the pizza,the topping is:\n",
      "- pepperoni\n",
      "\n",
      " For the pizza,the topping is:\n",
      "- mushrooms\n",
      "- green peppers\n",
      "- extra cheese\n"
     ]
    }
   ],
   "source": [
    "def make_pizza(*toppings):\n",
    "    print(\"\\n For the pizza,the topping is:\")\n",
    "    for topping in toppings:\n",
    "        print(f\"- {topping}\")\n",
    "    \n",
    "make_pizza('pepperoni')\n",
    "make_pizza('mushrooms', 'green peppers', 'extra cheese')"
   ]
  },
  {
   "cell_type": "code",
   "execution_count": 5,
   "id": "e16778b0",
   "metadata": {},
   "outputs": [
    {
     "name": "stdout",
     "output_type": "stream",
     "text": [
      "\n",
      "Making a 16-inch pizza with the following toppings:\n",
      "-perriperi\n",
      "\n",
      "Making a 12-inch pizza with the following toppings:\n",
      "-mushroom\n",
      "-butter\n",
      "-cheese\n"
     ]
    }
   ],
   "source": [
    "#Mixing Positional and Arbitrary Arguments:\n",
    "def make_pizza(size,*toppings):\n",
    "    print(f\"\\nMaking a {size}-inch pizza with the following toppings:\") \n",
    "    for topping in toppings:\n",
    "        print(f\"-{topping}\")\n",
    "        \n",
    "make_pizza(16,'perriperi')\n",
    "make_pizza(12,'mushroom','butter','cheese')"
   ]
  },
  {
   "cell_type": "code",
   "execution_count": 8,
   "id": "5202054a",
   "metadata": {},
   "outputs": [
    {
     "name": "stdout",
     "output_type": "stream",
     "text": [
      "{'location': 'Madras', 'feild': 'Mathematics', 'first_name': 'Srinivasa', 'last_name': 'Ramanujan'}\n"
     ]
    }
   ],
   "source": [
    "#Using Arbitrary Keyword Arguments:\n",
    "def build_profile(first,last,**user_info):\n",
    "    user_info['first_name'] = first\n",
    "    user_info['last_name'] = last\n",
    "    return user_info\n",
    "\n",
    "user_profile = build_profile('Srinivasa','Ramanujan',location = 'Madras',feild = 'Mathematics')\n",
    "print(user_profile)"
   ]
  },
  {
   "cell_type": "code",
   "execution_count": 9,
   "id": "fc5d7810",
   "metadata": {},
   "outputs": [
    {
     "name": "stdout",
     "output_type": "stream",
     "text": [
      "\n",
      " The sandwich that I have ordered has\n",
      "- Onions\n",
      "\n",
      " The sandwich that I have ordered has\n",
      "- sauce\n",
      "- cheese\n",
      "- butter\n"
     ]
    }
   ],
   "source": [
    "def sandwich_ordered(*toppings):\n",
    "    print(\"\\n The sandwich that I have ordered has\")\n",
    "    for topping in toppings:\n",
    "        print(f\"- {topping}\")\n",
    "        \n",
    "sandwich_ordered('Onions')\n",
    "sandwich_ordered('sauce','cheese','butter')"
   ]
  },
  {
   "cell_type": "code",
   "execution_count": 10,
   "id": "d620ff9c",
   "metadata": {},
   "outputs": [
    {
     "name": "stdout",
     "output_type": "stream",
     "text": [
      "{'location': 'Hyderabad', 'College': 'JNTUH', 'Course': 'B.Tech ECE', 'first_name': 'Sai', 'middle_name': 'Ram', 'last_name': 'Venagandula'}\n"
     ]
    }
   ],
   "source": [
    "def build_profile(first,middle,last,**user_info):\n",
    "    user_info['first_name'] = first\n",
    "    user_info['middle_name'] = middle\n",
    "    user_info['last_name'] = last\n",
    "    return user_info\n",
    "\n",
    "user_profile = build_profile('Sai','Ram','Venagandula',location = 'Hyderabad',College = 'JNTUH',Course = 'B.Tech ECE')\n",
    "print(user_profile)"
   ]
  },
  {
   "cell_type": "code",
   "execution_count": 11,
   "id": "d3de3c06",
   "metadata": {},
   "outputs": [
    {
     "ename": "ModuleNotFoundError",
     "evalue": "No module named 'pizza'",
     "output_type": "error",
     "traceback": [
      "\u001b[1;31m---------------------------------------------------------------------------\u001b[0m",
      "\u001b[1;31mModuleNotFoundError\u001b[0m                       Traceback (most recent call last)",
      "\u001b[1;32mC:\\Users\\SAIRAM~1\\AppData\\Local\\Temp/ipykernel_24424/1455406874.py\u001b[0m in \u001b[0;36m<module>\u001b[1;34m\u001b[0m\n\u001b[0;32m      4\u001b[0m         \u001b[0mprint\u001b[0m\u001b[1;33m(\u001b[0m\u001b[1;34mf\"-{topping}\"\u001b[0m\u001b[1;33m)\u001b[0m\u001b[1;33m\u001b[0m\u001b[1;33m\u001b[0m\u001b[0m\n\u001b[0;32m      5\u001b[0m \u001b[1;33m\u001b[0m\u001b[0m\n\u001b[1;32m----> 6\u001b[1;33m \u001b[1;32mimport\u001b[0m \u001b[0mpizza\u001b[0m\u001b[1;33m\u001b[0m\u001b[1;33m\u001b[0m\u001b[0m\n\u001b[0m\u001b[0;32m      7\u001b[0m \u001b[0mpizza\u001b[0m\u001b[1;33m.\u001b[0m\u001b[0mmake_pizza\u001b[0m\u001b[1;33m(\u001b[0m\u001b[1;36m16\u001b[0m\u001b[1;33m,\u001b[0m \u001b[1;34m'pepperoni'\u001b[0m\u001b[1;33m)\u001b[0m\u001b[1;33m\u001b[0m\u001b[1;33m\u001b[0m\u001b[0m\n\u001b[0;32m      8\u001b[0m \u001b[0mpizza\u001b[0m\u001b[1;33m.\u001b[0m\u001b[0mmake_pizza\u001b[0m\u001b[1;33m(\u001b[0m\u001b[1;36m12\u001b[0m\u001b[1;33m,\u001b[0m \u001b[1;34m'mushrooms'\u001b[0m\u001b[1;33m,\u001b[0m \u001b[1;34m'green peppers'\u001b[0m\u001b[1;33m,\u001b[0m \u001b[1;34m'extra cheese'\u001b[0m\u001b[1;33m)\u001b[0m\u001b[1;33m\u001b[0m\u001b[1;33m\u001b[0m\u001b[0m\n",
      "\u001b[1;31mModuleNotFoundError\u001b[0m: No module named 'pizza'"
     ]
    }
   ],
   "source": [
    "def make_pizza(size,*toppings):\n",
    "    print(f\"\\nMaking a {size}-inch pizza with the following toppings:\") \n",
    "    for topping in toppings:\n",
    "        print(f\"-{topping}\")\n",
    "        \n",
    "import pizza\n",
    "pizza.make_pizza(16, 'pepperoni')\n",
    "pizza.make_pizza(12, 'mushrooms', 'green peppers', 'extra cheese')"
   ]
  },
  {
   "cell_type": "code",
   "execution_count": null,
   "id": "0ccbbac9",
   "metadata": {},
   "outputs": [],
   "source": []
  }
 ],
 "metadata": {
  "kernelspec": {
   "display_name": "Python 3 (ipykernel)",
   "language": "python",
   "name": "python3"
  },
  "language_info": {
   "codemirror_mode": {
    "name": "ipython",
    "version": 3
   },
   "file_extension": ".py",
   "mimetype": "text/x-python",
   "name": "python",
   "nbconvert_exporter": "python",
   "pygments_lexer": "ipython3",
   "version": "3.10.0"
  }
 },
 "nbformat": 4,
 "nbformat_minor": 5
}
