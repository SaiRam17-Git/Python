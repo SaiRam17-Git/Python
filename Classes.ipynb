{
 "cells": [
  {
   "cell_type": "code",
   "execution_count": 2,
   "id": "f2abaa4c",
   "metadata": {},
   "outputs": [],
   "source": [
    "class Dog:\n",
    "    \n",
    "    def __init__(self,name,age):\n",
    "        self.name = name\n",
    "        self.age = age\n",
    "        \n",
    "    def sit(self):\n",
    "        print(f\"{self.name} is now sitting.\")\n",
    "    \n",
    "    def roll_over(self):\n",
    "        print(f\"{self.name} rolled over!\")\n",
    "        \n"
   ]
  },
  {
   "cell_type": "code",
   "execution_count": 10,
   "id": "5b1949b5",
   "metadata": {},
   "outputs": [
    {
     "name": "stdout",
     "output_type": "stream",
     "text": [
      "My dog name is Harry\n",
      "Harry 6\n",
      "Harry is now sitting.\n",
      "Harry rolled over!\n"
     ]
    }
   ],
   "source": [
    "#Making an Instance from a Class:\n",
    "class Dog:\n",
    "    def __init__(self,name,age):\n",
    "        self.name = name\n",
    "        self.age = age\n",
    "        \n",
    "    def sit(self):\n",
    "        print(f\"{self.name} is now sitting.\")\n",
    "    \n",
    "    def roll_over(self):\n",
    "        print(f\"{self.name} rolled over!\")\n",
    "        \n",
    "my_dog = Dog('Harry',6)\n",
    "print(f\"My dog name is {my_dog.name}\")\n",
    "\n",
    "#accessing attributes\n",
    "print(f\"{my_dog.name} {my_dog.age}\")\n",
    "my_dog.name\n",
    "\n",
    "#calling methods\n",
    "my_dog.sit()\n",
    "my_dog.roll_over()\n",
    "\n",
    "#creating multiple instances\n"
   ]
  },
  {
   "cell_type": "code",
   "execution_count": null,
   "id": "66e3e1a5",
   "metadata": {},
   "outputs": [],
   "source": []
  }
 ],
 "metadata": {
  "kernelspec": {
   "display_name": "Python 3 (ipykernel)",
   "language": "python",
   "name": "python3"
  },
  "language_info": {
   "codemirror_mode": {
    "name": "ipython",
    "version": 3
   },
   "file_extension": ".py",
   "mimetype": "text/x-python",
   "name": "python",
   "nbconvert_exporter": "python",
   "pygments_lexer": "ipython3",
   "version": "3.10.0"
  }
 },
 "nbformat": 4,
 "nbformat_minor": 5
}
